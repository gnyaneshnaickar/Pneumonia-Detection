{
  "cells": [
    {
      "cell_type": "markdown",
      "metadata": {
        "id": "view-in-github",
        "colab_type": "text"
      },
      "source": [
        "<a href=\"https://colab.research.google.com/github/gnyaneshnaickar/Pneumonia-Detection/blob/main/Pneumonia.ipynb\" target=\"_parent\"><img src=\"https://colab.research.google.com/assets/colab-badge.svg\" alt=\"Open In Colab\"/></a>"
      ]
    },
    {
      "cell_type": "markdown",
      "metadata": {
        "id": "9x126Ou8MXAz"
      },
      "source": [
        "#Pneumonia-Detection-using-Deep-Learning"
      ]
    },
    {
      "cell_type": "code",
      "execution_count": null,
      "metadata": {
        "id": "v7CAhmKsLQ6F"
      },
      "outputs": [],
      "source": [
        "#imported required packages\n",
        "import cv2\n",
        "import numpy as np\n",
        "import tensorflow as tf\n",
        "import matplotlib.pyplot as plt\n",
        "from keras.preprocessing.image import ImageDataGenerator\n",
        "from keras.preprocessing import image\n",
        "from tensorflow.keras.optimizers import Adam\n",
        "from keras.preprocessing.image import img_to_array\n",
        "from keras.models import load_model"
      ]
    },
    {
      "cell_type": "code",
      "execution_count": null,
      "metadata": {
        "colab": {
          "base_uri": "https://localhost:8080/"
        },
        "id": "K_FJbR5RMaWk",
        "outputId": "c4c5e712-bf64-46f1-fd35-320324fb3b07"
      },
      "outputs": [
        {
          "name": "stdout",
          "output_type": "stream",
          "text": [
            "Mounted at /content/drive\n"
          ]
        }
      ],
      "source": [
        "# To mount your drive inside drive folder execute following \n",
        "from google.colab import drive\n",
        "drive.mount('/content/drive')"
      ]
    },
    {
      "cell_type": "code",
      "execution_count": null,
      "metadata": {
        "id": "gt2Z83MLMeOD"
      },
      "outputs": [],
      "source": [
        "# creating the image data generator\n",
        "train_datagen = ImageDataGenerator(rescale = 1./255,\n",
        "shear_range = 0.2,\n",
        "zoom_range = 0.2,\n",
        "horizontal_flip = True)"
      ]
    },
    {
      "cell_type": "code",
      "execution_count": null,
      "metadata": {
        "id": "Qyrmkg-yMmSp"
      },
      "outputs": [],
      "source": [
        "# loading the train image dataset\n",
        "train_images = \"/content/drive/MyDrive/chest_xray/train\""
      ]
    },
    {
      "cell_type": "code",
      "execution_count": null,
      "metadata": {
        "colab": {
          "base_uri": "https://localhost:8080/"
        },
        "id": "TRZG1rZxMpOZ",
        "outputId": "1b5a74c6-4164-40d5-e636-a5b0f5b1d26c"
      },
      "outputs": [
        {
          "name": "stdout",
          "output_type": "stream",
          "text": [
            "Found 5216 images belonging to 2 classes.\n"
          ]
        }
      ],
      "source": [
        "# preparing an iterator for scaling train images\n",
        "train_generator = train_datagen.flow_from_directory(train_images,\n",
        "    target_size = (300,300),\n",
        "    batch_size = 128,\n",
        "    class_mode = 'binary')"
      ]
    },
    {
      "cell_type": "code",
      "execution_count": null,
      "metadata": {
        "colab": {
          "base_uri": "https://localhost:8080/"
        },
        "id": "fcoVwiSQMsKQ",
        "outputId": "a658c7f6-992a-44fd-ffeb-6cacef79109d"
      },
      "outputs": [
        {
          "data": {
            "text/plain": [
              "{'NORMAL': 0, 'PNEUMONIA': 1}"
            ]
          },
          "execution_count": 7,
          "metadata": {},
          "output_type": "execute_result"
        }
      ],
      "source": [
        "train_generator.class_indices"
      ]
    },
    {
      "cell_type": "code",
      "execution_count": null,
      "metadata": {
        "colab": {
          "base_uri": "https://localhost:8080/"
        },
        "id": "rc5k2J2CMxQX",
        "outputId": "389ef12d-b432-4fcf-c9a8-4b432233a2b3"
      },
      "outputs": [
        {
          "name": "stdout",
          "output_type": "stream",
          "text": [
            "Found 16 images belonging to 2 classes.\n"
          ]
        }
      ],
      "source": [
        "# preparing an iterator for scaling test images\n",
        "test_datagen = ImageDataGenerator(rescale = 1./255)\n",
        "# preparing an iterator for scaling validation images\n",
        "validation_generator = test_datagen.flow_from_directory('/content/drive/MyDrive/chest_xray/val',\n",
        "    target_size= (300,300),\n",
        "    batch_size = 128,\n",
        "    class_mode = 'binary')"
      ]
    },
    {
      "cell_type": "code",
      "execution_count": null,
      "metadata": {
        "colab": {
          "base_uri": "https://localhost:8080/"
        },
        "id": "tT05fWhsM00f",
        "outputId": "a3562f65-37ae-44ca-a113-6c91486c3535"
      },
      "outputs": [
        {
          "name": "stdout",
          "output_type": "stream",
          "text": [
            "Model: \"sequential\"\n",
            "_________________________________________________________________\n",
            " Layer (type)                Output Shape              Param #   \n",
            "=================================================================\n",
            " conv2d (Conv2D)             (None, 298, 298, 16)      448       \n",
            "                                                                 \n",
            " max_pooling2d (MaxPooling2D  (None, 149, 149, 16)     0         \n",
            " )                                                               \n",
            "                                                                 \n",
            " conv2d_1 (Conv2D)           (None, 147, 147, 32)      4640      \n",
            "                                                                 \n",
            " max_pooling2d_1 (MaxPooling  (None, 73, 73, 32)       0         \n",
            " 2D)                                                             \n",
            "                                                                 \n",
            " conv2d_2 (Conv2D)           (None, 71, 71, 64)        18496     \n",
            "                                                                 \n",
            " max_pooling2d_2 (MaxPooling  (None, 35, 35, 64)       0         \n",
            " 2D)                                                             \n",
            "                                                                 \n",
            " conv2d_3 (Conv2D)           (None, 33, 33, 128)       73856     \n",
            "                                                                 \n",
            " max_pooling2d_3 (MaxPooling  (None, 16, 16, 128)      0         \n",
            " 2D)                                                             \n",
            "                                                                 \n",
            " conv2d_4 (Conv2D)           (None, 14, 14, 128)       147584    \n",
            "                                                                 \n",
            " max_pooling2d_4 (MaxPooling  (None, 7, 7, 128)        0         \n",
            " 2D)                                                             \n",
            "                                                                 \n",
            " flatten (Flatten)           (None, 6272)              0         \n",
            "                                                                 \n",
            " dense (Dense)               (None, 256)               1605888   \n",
            "                                                                 \n",
            " dense_1 (Dense)             (None, 512)               131584    \n",
            "                                                                 \n",
            " dense_2 (Dense)             (None, 1)                 513       \n",
            "                                                                 \n",
            "=================================================================\n",
            "Total params: 1,983,009\n",
            "Trainable params: 1,983,009\n",
            "Non-trainable params: 0\n",
            "_________________________________________________________________\n"
          ]
        }
      ],
      "source": [
        "# defining the model\n",
        "model= tf.keras.models.Sequential([\n",
        "                                   tf.keras.layers.Conv2D(16, (3,3), activation= 'relu', input_shape= (300, 300, 3)),\n",
        "                                   tf.keras.layers.MaxPool2D(2,2),\n",
        "                                   tf.keras.layers.Conv2D(32, (3,3), activation= 'relu'),\n",
        "                                   tf.keras.layers.MaxPool2D(2,2),\n",
        "                                   tf.keras.layers.Conv2D(64, (3,3), activation= 'relu'),\n",
        "                                   tf.keras.layers.MaxPool2D(2,2),\n",
        "                                   tf.keras.layers.Conv2D(128, (3,3), activation= 'relu'),\n",
        "                                   tf.keras.layers.MaxPool2D(2,2),\n",
        "                                   tf.keras.layers.Conv2D(128, (3,3), activation= 'relu'),\n",
        "                                   tf.keras.layers.MaxPool2D(2,2),\n",
        "\n",
        "                                   tf.keras.layers.Flatten(),\n",
        "                                   tf.keras.layers.Dense(256, activation= 'relu'),\n",
        "                                   tf.keras.layers.Dense(512, activation= 'relu'),\n",
        "                                   tf.keras.layers.Dense(1, activation= 'sigmoid')\n",
        "])\n",
        "# compiling the model\n",
        "model.summary()\n",
        "model.compile(optimizer= 'adam', loss= 'binary_crossentropy', metrics= ['accuracy'])"
      ]
    },
    {
      "cell_type": "code",
      "execution_count": null,
      "metadata": {
        "colab": {
          "base_uri": "https://localhost:8080/"
        },
        "id": "KSk74albM9ac",
        "outputId": "5f6882bb-71b6-4a1e-e3eb-87348c883b37"
      },
      "outputs": [
        {
          "name": "stdout",
          "output_type": "stream",
          "text": [
            "Epoch 1/50\n",
            "41/41 [==============================] - 1176s 28s/step - loss: 0.6273 - accuracy: 0.7299 - val_loss: 0.8528 - val_accuracy: 0.5000\n",
            "Epoch 2/50\n",
            "41/41 [==============================] - 607s 15s/step - loss: 0.4254 - accuracy: 0.8117 - val_loss: 0.6114 - val_accuracy: 0.6250\n",
            "Epoch 3/50\n",
            "41/41 [==============================] - 603s 15s/step - loss: 0.2702 - accuracy: 0.8882 - val_loss: 1.0997 - val_accuracy: 0.6875\n",
            "Epoch 4/50\n",
            "41/41 [==============================] - 604s 15s/step - loss: 0.2143 - accuracy: 0.9112 - val_loss: 0.5017 - val_accuracy: 0.8125\n",
            "Epoch 5/50\n",
            "41/41 [==============================] - 513s 12s/step - loss: 0.1859 - accuracy: 0.9241 - val_loss: 1.5745 - val_accuracy: 0.6250\n",
            "Epoch 6/50\n",
            "41/41 [==============================] - 515s 12s/step - loss: 0.1788 - accuracy: 0.9283 - val_loss: 1.0059 - val_accuracy: 0.6250\n",
            "Epoch 7/50\n",
            "41/41 [==============================] - 513s 12s/step - loss: 0.1805 - accuracy: 0.9285 - val_loss: 0.9447 - val_accuracy: 0.6250\n",
            "Epoch 8/50\n",
            "41/41 [==============================] - 519s 13s/step - loss: 0.1685 - accuracy: 0.9346 - val_loss: 0.7048 - val_accuracy: 0.6875\n",
            "Epoch 9/50\n",
            "41/41 [==============================] - 509s 12s/step - loss: 0.1556 - accuracy: 0.9410 - val_loss: 1.3375 - val_accuracy: 0.6250\n",
            "Epoch 10/50\n",
            "41/41 [==============================] - 496s 12s/step - loss: 0.1786 - accuracy: 0.9340 - val_loss: 0.6580 - val_accuracy: 0.6875\n",
            "Epoch 11/50\n",
            "41/41 [==============================] - 497s 12s/step - loss: 0.1379 - accuracy: 0.9477 - val_loss: 1.0796 - val_accuracy: 0.6250\n",
            "Epoch 12/50\n",
            "41/41 [==============================] - 498s 12s/step - loss: 0.1527 - accuracy: 0.9419 - val_loss: 0.3867 - val_accuracy: 0.8125\n",
            "Epoch 13/50\n",
            "41/41 [==============================] - 497s 12s/step - loss: 0.1378 - accuracy: 0.9454 - val_loss: 0.9130 - val_accuracy: 0.6250\n",
            "Epoch 14/50\n",
            "41/41 [==============================] - 497s 12s/step - loss: 0.1377 - accuracy: 0.9452 - val_loss: 0.8184 - val_accuracy: 0.6250\n",
            "Epoch 15/50\n",
            "41/41 [==============================] - 495s 12s/step - loss: 0.1204 - accuracy: 0.9528 - val_loss: 0.4161 - val_accuracy: 0.6875\n",
            "Epoch 16/50\n",
            "41/41 [==============================] - 494s 12s/step - loss: 0.1332 - accuracy: 0.9517 - val_loss: 0.6498 - val_accuracy: 0.6250\n",
            "Epoch 17/50\n",
            "41/41 [==============================] - 491s 12s/step - loss: 0.1255 - accuracy: 0.9505 - val_loss: 0.6024 - val_accuracy: 0.6250\n",
            "Epoch 18/50\n",
            "41/41 [==============================] - 493s 12s/step - loss: 0.1119 - accuracy: 0.9592 - val_loss: 0.6453 - val_accuracy: 0.6250\n",
            "Epoch 19/50\n",
            "41/41 [==============================] - 496s 12s/step - loss: 0.1226 - accuracy: 0.9530 - val_loss: 0.5361 - val_accuracy: 0.6250\n",
            "Epoch 20/50\n",
            "41/41 [==============================] - 499s 12s/step - loss: 0.1362 - accuracy: 0.9488 - val_loss: 0.6890 - val_accuracy: 0.6250\n",
            "Epoch 21/50\n",
            "41/41 [==============================] - 498s 12s/step - loss: 0.1083 - accuracy: 0.9624 - val_loss: 0.6771 - val_accuracy: 0.6250\n",
            "Epoch 22/50\n",
            "41/41 [==============================] - 495s 12s/step - loss: 0.1087 - accuracy: 0.9572 - val_loss: 0.5750 - val_accuracy: 0.6250\n",
            "Epoch 23/50\n",
            "41/41 [==============================] - 491s 12s/step - loss: 0.0992 - accuracy: 0.9653 - val_loss: 1.0427 - val_accuracy: 0.6250\n",
            "Epoch 24/50\n",
            "41/41 [==============================] - 492s 12s/step - loss: 0.0964 - accuracy: 0.9617 - val_loss: 0.5450 - val_accuracy: 0.6875\n",
            "Epoch 25/50\n",
            "41/41 [==============================] - 490s 12s/step - loss: 0.0970 - accuracy: 0.9628 - val_loss: 0.3008 - val_accuracy: 0.8750\n",
            "Epoch 26/50\n",
            "41/41 [==============================] - 491s 12s/step - loss: 0.0929 - accuracy: 0.9630 - val_loss: 0.7632 - val_accuracy: 0.6250\n",
            "Epoch 27/50\n",
            "41/41 [==============================] - 489s 12s/step - loss: 0.0891 - accuracy: 0.9655 - val_loss: 0.6067 - val_accuracy: 0.6875\n",
            "Epoch 28/50\n",
            "41/41 [==============================] - 491s 12s/step - loss: 0.0954 - accuracy: 0.9643 - val_loss: 1.0061 - val_accuracy: 0.6250\n",
            "Epoch 29/50\n",
            "41/41 [==============================] - 494s 12s/step - loss: 0.0893 - accuracy: 0.9663 - val_loss: 0.5982 - val_accuracy: 0.6250\n",
            "Epoch 30/50\n",
            "41/41 [==============================] - 492s 12s/step - loss: 0.0886 - accuracy: 0.9664 - val_loss: 0.3632 - val_accuracy: 0.7500\n",
            "Epoch 31/50\n",
            "41/41 [==============================] - 493s 12s/step - loss: 0.0952 - accuracy: 0.9632 - val_loss: 0.4150 - val_accuracy: 0.7500\n",
            "Epoch 32/50\n",
            "41/41 [==============================] - 497s 12s/step - loss: 0.0790 - accuracy: 0.9709 - val_loss: 0.5128 - val_accuracy: 0.8750\n",
            "Epoch 33/50\n",
            "41/41 [==============================] - 491s 12s/step - loss: 0.0927 - accuracy: 0.9649 - val_loss: 0.3333 - val_accuracy: 0.8750\n",
            "Epoch 34/50\n",
            "41/41 [==============================] - 490s 12s/step - loss: 0.0757 - accuracy: 0.9739 - val_loss: 0.5557 - val_accuracy: 0.6875\n",
            "Epoch 35/50\n",
            "41/41 [==============================] - 494s 12s/step - loss: 0.0788 - accuracy: 0.9709 - val_loss: 0.1467 - val_accuracy: 0.9375\n",
            "Epoch 36/50\n",
            "41/41 [==============================] - 520s 13s/step - loss: 0.0793 - accuracy: 0.9703 - val_loss: 0.2759 - val_accuracy: 0.9375\n",
            "Epoch 37/50\n",
            "41/41 [==============================] - 515s 12s/step - loss: 0.0879 - accuracy: 0.9643 - val_loss: 0.2122 - val_accuracy: 0.9375\n",
            "Epoch 38/50\n",
            "41/41 [==============================] - 492s 12s/step - loss: 0.0811 - accuracy: 0.9703 - val_loss: 0.2311 - val_accuracy: 0.8750\n",
            "Epoch 39/50\n",
            "41/41 [==============================] - 490s 12s/step - loss: 0.0690 - accuracy: 0.9749 - val_loss: 0.4078 - val_accuracy: 0.8750\n",
            "Epoch 40/50\n",
            "41/41 [==============================] - 489s 12s/step - loss: 0.0716 - accuracy: 0.9720 - val_loss: 0.9483 - val_accuracy: 0.6250\n",
            "Epoch 41/50\n",
            "41/41 [==============================] - 492s 12s/step - loss: 0.0777 - accuracy: 0.9697 - val_loss: 0.6154 - val_accuracy: 0.6250\n",
            "Epoch 42/50\n",
            "41/41 [==============================] - 488s 12s/step - loss: 0.0742 - accuracy: 0.9737 - val_loss: 0.4497 - val_accuracy: 0.8125\n",
            "Epoch 43/50\n",
            "41/41 [==============================] - 491s 12s/step - loss: 0.0700 - accuracy: 0.9734 - val_loss: 0.6156 - val_accuracy: 0.7500\n",
            "Epoch 44/50\n",
            "41/41 [==============================] - 494s 12s/step - loss: 0.0659 - accuracy: 0.9751 - val_loss: 0.2133 - val_accuracy: 0.9375\n",
            "Epoch 45/50\n",
            "41/41 [==============================] - 494s 12s/step - loss: 0.0674 - accuracy: 0.9770 - val_loss: 0.1270 - val_accuracy: 0.9375\n",
            "Epoch 46/50\n",
            "41/41 [==============================] - 491s 12s/step - loss: 0.0657 - accuracy: 0.9757 - val_loss: 0.6223 - val_accuracy: 0.6250\n",
            "Epoch 47/50\n",
            "41/41 [==============================] - 489s 12s/step - loss: 0.0672 - accuracy: 0.9745 - val_loss: 0.2392 - val_accuracy: 0.8125\n",
            "Epoch 48/50\n",
            "41/41 [==============================] - 488s 12s/step - loss: 0.0614 - accuracy: 0.9793 - val_loss: 0.2545 - val_accuracy: 0.8750\n",
            "Epoch 49/50\n",
            "41/41 [==============================] - 491s 12s/step - loss: 0.0613 - accuracy: 0.9783 - val_loss: 0.2343 - val_accuracy: 0.9375\n",
            "Epoch 50/50\n",
            "41/41 [==============================] - 488s 12s/step - loss: 0.0560 - accuracy: 0.9803 - val_loss: 0.0348 - val_accuracy: 1.0000\n"
          ]
        }
      ],
      "source": [
        "# fitting the model with the generator\n",
        "history = model.fit(train_generator, epochs = 50, validation_data = validation_generator)"
      ]
    },
    {
      "cell_type": "code",
      "execution_count": null,
      "metadata": {
        "id": "bDO4Ys6YNBP0"
      },
      "outputs": [],
      "source": [
        "# Save the trained model\n",
        "model.save(\"trained.h5\")"
      ]
    },
    {
      "cell_type": "code",
      "execution_count": null,
      "metadata": {
        "colab": {
          "background_save": true
        },
        "id": "E2rccIsn5XBl"
      },
      "outputs": [],
      "source": [
        "# Use the loaded pickled model to make predictions\n",
        "model = load_model(\"trained.h5\")"
      ]
    },
    {
      "cell_type": "code",
      "execution_count": null,
      "metadata": {
        "colab": {
          "background_save": true
        },
        "id": "Dc-M8zRp5dRw",
        "outputId": "b9914766-e43a-4c1c-d59a-9679c52948d5"
      },
      "outputs": [
        {
          "name": "stdout",
          "output_type": "stream",
          "text": [
            "Found 624 images belonging to 2 classes.\n"
          ]
        },
        {
          "name": "stderr",
          "output_type": "stream",
          "text": [
            "/usr/local/lib/python3.7/dist-packages/ipykernel_launcher.py:10: UserWarning: `Model.evaluate_generator` is deprecated and will be removed in a future version. Please use `Model.evaluate`, which supports generators.\n",
            "  # Remove the CWD from sys.path while we load stuff.\n"
          ]
        },
        {
          "name": "stdout",
          "output_type": "stream",
          "text": [
            "WARNING:tensorflow:Your input ran out of data; interrupting training. Make sure that your dataset or generator can generate at least `steps_per_epoch * epochs` batches (in this case, 624 batches). You may need to use the repeat() function when building your dataset.\n",
            "loss : 0.23275145888328552\n",
            "accuracy : 0.9342948794364929\n"
          ]
        }
      ],
      "source": [
        "\n",
        "# creating the image data generator\n",
        "eval_datagen = ImageDataGenerator(rescale = 1/255)\n",
        "\n",
        "test_generator = eval_datagen.flow_from_directory(\n",
        "    '/content/drive/MyDrive/chest_xray/test',\n",
        "    target_size = (300, 300),\n",
        "    batch_size = 128,\n",
        "    class_mode = 'binary'\n",
        ")\n",
        "# evaluating the model\n",
        "eval_result = model.evaluate_generator(test_generator, 624)\n",
        "print('loss :', eval_result[0])\n",
        "print('accuracy :', eval_result[1])"
      ]
    },
    {
      "cell_type": "code",
      "execution_count": null,
      "metadata": {
        "colab": {
          "background_save": true
        },
        "id": "IKzOfJpX5ePh",
        "outputId": "3e80278c-f2df-42b8-d674-2c3f7f85a37b"
      },
      "outputs": [
        {
          "data": {
            "text/plain": [
              "array([[0.08273536]], dtype=float32)"
            ]
          },
          "execution_count": null,
          "metadata": {},
          "output_type": "execute_result"
        }
      ],
      "source": [
        "# Keep in mind that before feeding any image to Keras, we need to convert it to a standard format since pre-trained models expect the input to be of a specific size.\n",
        "img= cv2.imread('/content/drive/MyDrive/chest_xray/test/NORMAL/IM-0017-0001.jpeg')\n",
        "tempimg = img\n",
        "img = cv2.resize(img,(300,300))\n",
        "img = img/255.0\n",
        "img = img.reshape(1,300,300,3)\n",
        "model.predict(img)"
      ]
    },
    {
      "cell_type": "code",
      "execution_count": null,
      "metadata": {
        "colab": {
          "background_save": true
        },
        "id": "rPn5IVF75jtU",
        "outputId": "5e868b98-9751-4148-acd9-0f0bcf6ab006"
      },
      "outputs": [
        {
          "name": "stdout",
          "output_type": "stream",
          "text": [
            "Prediction: Normal\n"
          ]
        },
        {
          "data": {
            "text/plain": [
              "Text(0.5, 1.0, 'Prediction: Normal')"
            ]
          },
          "execution_count": null,
          "metadata": {},
          "output_type": "execute_result"
        },
        {
          "data": {
            "image/png": "[encoded data removed]",
            "text/plain": [
              "<Figure size 432x288 with 1 Axes>"
            ]
          },
          "metadata": {},
          "output_type": "display_data"
        }
      ],
      "source": [
        "# making prediction whether pneumonia or normal\n",
        "prediction = model.predict(img) >= 0.5\n",
        "if prediction>=0.5:\n",
        "  prediction = \"Pneumonia\"\n",
        "else:\n",
        "  prediction = \"Normal\"\n",
        "print(\"Prediction: \"+prediction)\n",
        "plt.imshow(tempimg)\n",
        "plt.title(\"Prediction: \"+prediction, fontsize=14)"
      ]
    }
  ],
  "metadata": {
    "colab": {
      "collapsed_sections": [],
      "name": "Pneumonia.ipynb",
      "provenance": [],
      "include_colab_link": true
    },
    "kernelspec": {
      "display_name": "Python 3",
      "name": "python3"
    },
    "language_info": {
      "name": "python"
    }
  },
  "nbformat": 4,
  "nbformat_minor": 0
}